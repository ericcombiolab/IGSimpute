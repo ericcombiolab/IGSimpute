{
 "cells": [
  {
   "cell_type": "code",
   "execution_count": 1,
   "metadata": {},
   "outputs": [],
   "source": [
    "import tensorflow as tf\n",
    "import numpy as np\n",
    "import matplotlib.pyplot as plt\n",
    "import pandas as pd\n",
    "import seaborn as sns\n",
    "import os\n",
    "import os.path as osp\n",
    "import scanpy as sc\n",
    "from IPython.display import display\n",
    "import sys\n",
    "sys.path.insert(0, \"..\")\n",
    "import matplotlib as mpl\n",
    "from run import *\n"
   ]
  },
  {
   "cell_type": "code",
   "execution_count": 2,
   "metadata": {},
   "outputs": [],
   "source": [
    "dataset_dir = \"tm_droplet_Trachea\"\n",
    "highly_genes_num = 0.1\n",
    "seed = 0\n",
    "ggl_loss_weight = 1\n",
    "gsl_L1_weight = 0.01\n",
    "rec_loss_weight = 0.1\n",
    "dropout_layer_prob = 0.2\n",
    "output_dir = \"imputation_output_ig\""
   ]
  },
  {
   "cell_type": "code",
   "execution_count": 3,
   "metadata": {},
   "outputs": [
    {
     "name": "stdout",
     "output_type": "stream",
     "text": [
      "tm_droplet_Trachea 11271 1679\n"
     ]
    },
    {
     "data": {
      "text/html": [
       "<div>\n",
       "<style scoped>\n",
       "    .dataframe tbody tr th:only-of-type {\n",
       "        vertical-align: middle;\n",
       "    }\n",
       "\n",
       "    .dataframe tbody tr th {\n",
       "        vertical-align: top;\n",
       "    }\n",
       "\n",
       "    .dataframe thead th {\n",
       "        text-align: right;\n",
       "    }\n",
       "</style>\n",
       "<table border=\"1\" class=\"dataframe\">\n",
       "  <thead>\n",
       "    <tr style=\"text-align: right;\">\n",
       "      <th></th>\n",
       "      <th>num2type</th>\n",
       "      <th>num2count</th>\n",
       "      <th>markers</th>\n",
       "    </tr>\n",
       "  </thead>\n",
       "  <tbody>\n",
       "    <tr>\n",
       "      <th>0</th>\n",
       "      <td>blood cell</td>\n",
       "      <td>1139</td>\n",
       "      <td>Ptprc</td>\n",
       "    </tr>\n",
       "    <tr>\n",
       "      <th>1</th>\n",
       "      <td>endothelial cell</td>\n",
       "      <td>1028</td>\n",
       "      <td>Pecam1</td>\n",
       "    </tr>\n",
       "    <tr>\n",
       "      <th>2</th>\n",
       "      <td>epithelial cell</td>\n",
       "      <td>892</td>\n",
       "      <td>Epcam, Cdh1</td>\n",
       "    </tr>\n",
       "    <tr>\n",
       "      <th>3</th>\n",
       "      <td>mesenchymal cell</td>\n",
       "      <td>7848</td>\n",
       "      <td>Pdgfrb, Pdgfra, Col1a1, Col8a1</td>\n",
       "    </tr>\n",
       "    <tr>\n",
       "      <th>4</th>\n",
       "      <td>neuroendocrine cell</td>\n",
       "      <td>362</td>\n",
       "      <td>Cck, Syp</td>\n",
       "    </tr>\n",
       "  </tbody>\n",
       "</table>\n",
       "</div>"
      ],
      "text/plain": [
       "              num2type  num2count                         markers\n",
       "0           blood cell       1139                           Ptprc\n",
       "1     endothelial cell       1028                          Pecam1\n",
       "2      epithelial cell        892                     Epcam, Cdh1\n",
       "3     mesenchymal cell       7848  Pdgfrb, Pdgfra, Col1a1, Col8a1\n",
       "4  neuroendocrine cell        362                        Cck, Syp"
      ]
     },
     "metadata": {},
     "output_type": "display_data"
    }
   ],
   "source": [
    "lambda_c = float(lambda_c)\n",
    "data_dir = \"/mnt/e/czbiohub-tabula-muris\"\n",
    "fig_dir = osp.join('/mnt/e/imputation')\n",
    "batch_size = 256\n",
    "dim = 400\n",
    "epochs = 500000\n",
    "generate_files = False\n",
    "gpu_option = \"0\"\n",
    "ig = True\n",
    "learning_rate = 1e-4\n",
    "low_expression_threshold = 0.20\n",
    "low_expression_percentage = 0.80\n",
    "split_pct = \"0.8\"\n",
    "compression = '.gz'\n",
    "n_neighbors = 10\n",
    "n_neg_sample = 20\n",
    "chunk_size = 256\n",
    "tf.compat.v1.reset_default_graph()\n",
    "tf.compat.v1.disable_eager_execution()\n",
    "os.environ['PYTHONHASHSEED'] = str(seed)\n",
    "random.seed(seed)\n",
    "np.random.seed(seed)\n",
    "tf.compat.v1.set_random_seed(seed)\n",
    "os.environ['TF_DETERMINISTIC_OPS'] = '1'\n",
    "os.environ['TF_CUDNN_DETERMINISTIC'] = '1'\n",
    "rng = default_rng(seed)\n",
    "adata, adata_unscaled, adata_cnt, post_zero_mask = load_data(data_dir, dataset_dir, highly_genes_num, n_neighbors, rng, generate_files, seed, low_expression_threshold=low_expression_threshold, low_expression_percentage=low_expression_percentage)\n",
    "if epochs > 0:\n",
    "    valid_split = int(float(split_pct) * len(adata.X))\n",
    "    if dim <= 1 and dim > 0:\n",
    "        dim = int(adata.X.shape[1] * dim)\n",
    "    elif dim > 1:\n",
    "        dim = int(dim)\n",
    "    else:\n",
    "        raise\n",
    "    dims = [adata.X.shape[1], dim]\n",
    "    print(dataset_dir, adata.X.shape[0], adata.X.shape[1])\n",
    "model = Model(data_dir, dataset_dir, output_dir, dims, learning_rate, batch_size, ggl_loss_weight, gsl_L1_weight, rec_loss_weight, dropout_layer_prob, epochs, seed, ig=ig)\n",
    "num2type_df = pd.read_csv(osp.join(data_dir, dataset_dir, \"0.1.num2typeandcount.name.csv.gz\"), index_col=0)\n",
    "selection_df = pd.read_csv(osp.join(data_dir, dataset_dir, output_dir, \"gene_selection_weight.name.csv.gz\"), index_col=0)\n",
    "display(num2type_df)\n"
   ]
  },
  {
   "cell_type": "code",
   "execution_count": 4,
   "metadata": {},
   "outputs": [],
   "source": [
    "all_markers = []\n",
    "type_marker_dict = {}\n",
    "for idx in num2type_df.index:\n",
    "# for type_markers in num2type_df['markers'].values:\n",
    "    type_markers = num2type_df.loc[idx, 'markers']\n",
    "    one_type_markers = [marker.rstrip('+').rstrip('-') for marker in type_markers.split(', ')]\n",
    "    one_type_markers = [marker for marker in one_type_markers if marker not in all_markers]\n",
    "    if dataset_dir == \"tm_droplet_Trachea\":\n",
    "        not_selected_markers = ['Col1a1', 'Syp', 'Pdgfrb', 'Col8a1']\n",
    "        one_type_markers = [marker for marker in one_type_markers if marker not in not_selected_markers] \n",
    "    type_marker_dict[num2type_df.loc[idx, 'num2type']] = one_type_markers\n",
    "    all_markers.extend(one_type_markers)"
   ]
  },
  {
   "cell_type": "code",
   "execution_count": 5,
   "metadata": {},
   "outputs": [
    {
     "data": {
      "text/plain": [
       "{'blood cell': ['Ptprc'],\n",
       " 'endothelial cell': ['Pecam1'],\n",
       " 'epithelial cell': ['Epcam', 'Cdh1'],\n",
       " 'mesenchymal cell': ['Pdgfra'],\n",
       " 'neuroendocrine cell': ['Cck']}"
      ]
     },
     "execution_count": 5,
     "metadata": {},
     "output_type": "execute_result"
    }
   ],
   "source": [
    "type_marker_dict"
   ]
  },
  {
   "cell_type": "code",
   "execution_count": null,
   "metadata": {},
   "outputs": [],
   "source": [
    "m_steps = 50\n",
    "method = 'riemann_trapezoidal'\n",
    "ig_batch_size = 64 # 32\n",
    "target_genes = all_markers\n",
    "target_gene_indices = [adata.var[\"gene_name\"].tolist().index(gene) for gene in target_genes]\n",
    "ig_post_zero_mask = None\n",
    "ig_post_zero_mask = post_zero_mask\n",
    "target_gene_ig_dict, baseline_imX = model.check_ig(adata, adata_unscaled, adata_cnt, gpu_option, target_genes, m_steps, method, ig_batch_size, post_zero_mask=ig_post_zero_mask)\n"
   ]
  },
  {
   "cell_type": "code",
   "execution_count": 11,
   "metadata": {},
   "outputs": [
    {
     "name": "stdout",
     "output_type": "stream",
     "text": [
      "blood cell Ptprc\n",
      "490     Cytl1\n",
      "1095      Mgp\n",
      "504     Dcpp3\n",
      "1273     Ppa1\n",
      "503     Dcpp2\n",
      "Name: gene_name, dtype: object\n",
      "endothelial cell Pecam1\n",
      "490      Cytl1\n",
      "504      Dcpp3\n",
      "503      Dcpp2\n",
      "1095       Mgp\n",
      "1068    Malat1\n",
      "Name: gene_name, dtype: object\n",
      "epithelial cell Epcam\n",
      "1095      Mgp\n",
      "503     Dcpp2\n",
      "504     Dcpp3\n",
      "502     Dcpp1\n",
      "565       Eln\n",
      "Name: gene_name, dtype: object\n",
      "epithelial cell Cdh1\n",
      "419       Col1a1\n",
      "423       Col3a1\n",
      "885       Igfbp4\n",
      "1428    Serping1\n",
      "1427    Serpinf1\n",
      "Name: gene_name, dtype: object\n",
      "mesenchymal cell Pdgfra\n",
      "1095       Mgp\n",
      "504      Dcpp3\n",
      "503      Dcpp2\n",
      "1068    Malat1\n",
      "1049       Ltf\n",
      "Name: gene_name, dtype: object\n",
      "neuroendocrine cell Cck\n",
      "490      Cytl1\n",
      "333       Cd74\n",
      "442      Crip1\n",
      "1273      Ppa1\n",
      "803     H2-Eb1\n",
      "Name: gene_name, dtype: object\n"
     ]
    }
   ],
   "source": [
    "top_gene_num = 5\n",
    "for idx, (k, v) in enumerate(type_marker_dict.items()):\n",
    "    for one_marker in v:\n",
    "        ig_genes = adata_cnt[:, target_gene_ig_dict[one_marker].sum(0).argsort()[::-1][:top_gene_num]].var[\"gene_name\"]\n",
    "        print(k, one_marker)\n",
    "        print(ig_genes)"
   ]
  }
 ],
 "metadata": {
  "kernelspec": {
   "display_name": "cgi",
   "language": "python",
   "name": "python3"
  },
  "language_info": {
   "codemirror_mode": {
    "name": "ipython",
    "version": 3
   },
   "file_extension": ".py",
   "mimetype": "text/x-python",
   "name": "python",
   "nbconvert_exporter": "python",
   "pygments_lexer": "ipython3",
   "version": "3.7.12"
  },
  "orig_nbformat": 4,
  "vscode": {
   "interpreter": {
    "hash": "d38aaf7e680fe712910b3afbf7dde00ab12688acd545e433774c6397b1e6d6f2"
   }
  }
 },
 "nbformat": 4,
 "nbformat_minor": 2
}
